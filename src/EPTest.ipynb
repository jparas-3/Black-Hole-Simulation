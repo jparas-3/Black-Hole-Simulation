{
 "cells": [
  {
   "cell_type": "code",
   "execution_count": 3,
   "metadata": {},
   "outputs": [
    {
     "data": {
      "image/png": "[encoded data removed]",
      "text/latex": [
       "$\\displaystyle \\sqrt{- \\Delta a^{2} \\sin^{2}{\\left(\\theta \\right)} + \\left(a^{2} + r^{2}\\right)^{2}}$"
      ],
      "text/plain": [
       "    _____________________________\n",
       "   ╱                           2 \n",
       "  ╱       2    2      ⎛ 2    2⎞  \n",
       "╲╱   - Δ⋅a ⋅sin (θ) + ⎝a  + r ⎠  "
      ]
     },
     "execution_count": 3,
     "metadata": {},
     "output_type": "execute_result"
    }
   ],
   "source": [
    "#this will function as a basic test for all the functionalities of the full sim. \n",
    "import sympy as sym\n",
    "r, a, theta = sym.symbols('r,a,theta')\n",
    "rho, Delta, Sigma = sym.symbols('rho, Delta, Sigma')\n",
    "Sigma = sym.sqrt((r**2 + a**2)**2 - a**2 * Delta * (sym.sin(theta))**2)\n",
    "Sigma"
   ]
  },
  {
   "cell_type": "code",
   "execution_count": 9,
   "metadata": {},
   "outputs": [
    {
     "data": {
      "image/png": "[encoded data removed]",
      "text/latex": [
       "$\\displaystyle \\left[\\begin{matrix}- \\frac{r r_{s}}{a^{2} \\cos^{2}{\\left(\\theta \\right)} + r^{2}} + 1 & 0 & 0 & \\frac{a r r_{s} \\sin^{2}{\\left(\\theta \\right)}}{a^{2} \\cos^{2}{\\left(\\theta \\right)} + r^{2}}\\\\0 & \\frac{- a^{2} \\cos^{2}{\\left(\\theta \\right)} - r^{2}}{a^{2} + r^{2} - r r_{s}} & 0 & 0\\\\0 & 0 & - a^{2} \\cos^{2}{\\left(\\theta \\right)} - r^{2} & 0\\\\\\frac{a r r_{s} \\sin^{2}{\\left(\\theta \\right)}}{a^{2} \\cos^{2}{\\left(\\theta \\right)} + r^{2}} & 0 & 0 & \\frac{\\left(a^{2} \\left(a^{2} + r^{2} - r r_{s}\\right) \\sin^{2}{\\left(\\theta \\right)} - \\left(a^{2} + r^{2}\\right)^{2}\\right) \\sin^{2}{\\left(\\theta \\right)}}{a^{2} \\cos^{2}{\\left(\\theta \\right)} + r^{2}}\\end{matrix}\\right]$"
      ],
      "text/plain": [
       "⎡                                                                             \n",
       "⎢        r⋅rₛ                                                                 \n",
       "⎢- ─────────────── + 1          0                  0                          \n",
       "⎢   2    2       2                                                            \n",
       "⎢  a ⋅cos (θ) + r                                                             \n",
       "⎢                                                                             \n",
       "⎢                          2    2       2                                     \n",
       "⎢                       - a ⋅cos (θ) - r                                      \n",
       "⎢          0            ─────────────────          0                          \n",
       "⎢                          2    2                                             \n",
       "⎢                         a  + r  - r⋅rₛ                                      \n",
       "⎢                                                                             \n",
       "⎢                                             2    2       2                  \n",
       "⎢          0                    0          - a ⋅cos (θ) - r                   \n",
       "⎢                                                                             \n",
       "⎢                                                             ⎛               \n",
       "⎢              2                                              ⎜ 2 ⎛ 2    2    \n",
       "⎢    a⋅r⋅rₛ⋅sin (θ)                                           ⎝a ⋅⎝a  + r  - r\n",
       "⎢   ───────────────             0                  0          ────────────────\n",
       "⎢    2    2       2                                                           \n",
       "⎣   a ⋅cos (θ) + r                                                            \n",
       "\n",
       "            2                     ⎤\n",
       "  a⋅r⋅rₛ⋅sin (θ)                  ⎥\n",
       " ───────────────                  ⎥\n",
       "  2    2       2                  ⎥\n",
       " a ⋅cos (θ) + r                   ⎥\n",
       "                                  ⎥\n",
       "                                  ⎥\n",
       "                                  ⎥\n",
       "        0                         ⎥\n",
       "                                  ⎥\n",
       "                                  ⎥\n",
       "                                  ⎥\n",
       "                                  ⎥\n",
       "        0                         ⎥\n",
       "                                  ⎥\n",
       "                        2⎞        ⎥\n",
       "   ⎞    2      ⎛ 2    2⎞ ⎟    2   ⎥\n",
       "⋅rₛ⎠⋅sin (θ) - ⎝a  + r ⎠ ⎠⋅sin (θ)⎥\n",
       "──────────────────────────────────⎥\n",
       "  2    2       2                  ⎥\n",
       " a ⋅cos (θ) + r                   ⎦"
      ]
     },
     "execution_count": 9,
     "metadata": {},
     "output_type": "execute_result"
    }
   ],
   "source": [
    "# #from einsteinpy.metric.kerrnewman import KerrNewman\n",
    "import sympy\n",
    "import numpy as np\n",
    "#from einsteinpy.geodesic import Geodesic, Timelike, Nulllike\n",
    "from einsteinpy.symbolic.predefined import Kerr, KerrNewman\n",
    "from einsteinpy.symbolic import MetricTensor, ChristoffelSymbols\n",
    "sympy.init_printing()\n",
    "# TestDiff = BoyerLindquistDifferential(0 , 4, np.pi /2, 0)\n",
    "# TestCoords = BoyerLindquistConversion(0, 4, np.pi / 2, 0)\n",
    "# TestMetric = KerrNewman(TestDiff,M = 1, q=0, Q = 0, a=.99)\n",
    "TestMetric1 = Kerr(c=1)\n",
    "#print(TestMetric1.tensor())\n",
    "TestMetric2 = KerrNewman(c=1, Q = 0)\n",
    "TestMetric2.tensor()\n",
    "\n",
    "#print(TestMetric2.symbols())\n",
    "#chrst = ChristoffelSymbols.from_metric(TestMetric1)\n",
    "#chrst.tensor()\n",
    "#TestMetric2\n",
    "\n",
    "\n"
   ]
  },
  {
   "cell_type": "code",
   "execution_count": 35,
   "metadata": {},
   "outputs": [
    {
     "data": {
      "image/png": "[encoded data removed]",
      "text/latex": [
       "$\\displaystyle \\left[\\begin{matrix}\\frac{2 M r}{a^{2} \\cos^{2}{\\left(\\theta \\right)} + r^{2}} - 1 & 0 & 0 & \\frac{2 M a^{2} r \\sin^{2}{\\left(\\theta \\right)}}{a^{2} \\cos^{2}{\\left(\\theta \\right)} + r^{2}}\\\\0 & \\frac{a^{2} \\cos^{2}{\\left(\\theta \\right)} + r^{2}}{- 2 M r + a^{2} + r^{2}} & 0 & 0\\\\0 & 0 & a^{2} \\cos^{2}{\\left(\\theta \\right)} + r^{2} & 0\\\\\\frac{2 M a^{2} r \\sin^{2}{\\left(\\theta \\right)}}{a^{2} \\cos^{2}{\\left(\\theta \\right)} + r^{2}} & 0 & 0 & \\left(\\frac{2 M a^{2} r \\sin^{2}{\\left(\\theta \\right)}}{a^{2} \\cos^{2}{\\left(\\theta \\right)} + r^{2}} + a^{2} + r^{2}\\right) \\sin^{2}{\\left(\\theta \\right)}\\end{matrix}\\right]$"
      ],
      "text/plain": [
       "⎡                                                                       2     \n",
       "⎢     2⋅M⋅r                                                        2⋅M⋅a ⋅r⋅si\n",
       "⎢─────────────── - 1         0                 0                   ───────────\n",
       "⎢ 2    2       2                                                    2    2    \n",
       "⎢a ⋅cos (θ) + r                                                    a ⋅cos (θ) \n",
       "⎢                                                                             \n",
       "⎢                      2    2       2                                         \n",
       "⎢                     a ⋅cos (θ) + r                                          \n",
       "⎢         0           ────────────────         0                          0   \n",
       "⎢                               2    2                                        \n",
       "⎢                     -2⋅M⋅r + a  + r                                         \n",
       "⎢                                                                             \n",
       "⎢                                        2    2       2                       \n",
       "⎢         0                  0          a ⋅cos (θ) + r                    0   \n",
       "⎢                                                                             \n",
       "⎢      2      2                                          ⎛     2      2       \n",
       "⎢ 2⋅M⋅a ⋅r⋅sin (θ)                                       ⎜2⋅M⋅a ⋅r⋅sin (θ)    \n",
       "⎢ ────────────────           0                 0         ⎜──────────────── + a\n",
       "⎢  2    2       2                                        ⎜ 2    2       2     \n",
       "⎣ a ⋅cos (θ) + r                                         ⎝a ⋅cos (θ) + r      \n",
       "\n",
       " 2             ⎤\n",
       "n (θ)          ⎥\n",
       "─────          ⎥\n",
       "   2           ⎥\n",
       "+ r            ⎥\n",
       "               ⎥\n",
       "               ⎥\n",
       "               ⎥\n",
       "               ⎥\n",
       "               ⎥\n",
       "               ⎥\n",
       "               ⎥\n",
       "               ⎥\n",
       "               ⎥\n",
       "               ⎥\n",
       "      ⎞        ⎥\n",
       "2    2⎟    2   ⎥\n",
       "  + r ⎟⋅sin (θ)⎥\n",
       "      ⎟        ⎥\n",
       "      ⎠        ⎦"
      ]
     },
     "execution_count": 35,
     "metadata": {},
     "output_type": "execute_result"
    }
   ],
   "source": [
    "import sympy\n",
    "#from einsteinpy.symbolic import MetricTensor, ChristoffelSymbols, RiemannCurvatureTensor\n",
    "#lets define the kerr metric tensor ourselves using the definition in the book\n",
    "from einsteinpy.symbolic import MetricTensor, ChristoffelSymbols, Tensor\n",
    "#c= G = 1 coords\n",
    "syms = sympy.symbols(\"t r theta phi\")\n",
    "M, a = sympy.symbols(\"M a\") #grav constant, mass,  kerr parameter\n",
    "params = sympy.symbols(\"rho Delta\")\n",
    "kerrlist2d = [[0 for i in range(4)] for i in range(4)]\n",
    "kerrlist2d[0][0] = - (1 - (2 * M * syms[1]) / params[0]**2)\n",
    "kerrlist2d[1][1] = params[0]**2 / params[1]\n",
    "kerrlist2d[2][2] = params[0]**2\n",
    "kerrlist2d[3][3] = (syms[1]**2 + a**2 + ((2 * M * syms[1] * a**2 * (sym.sin(syms[2]))**2) / params[0]**2)) * (sym.sin(syms[2]))**2\n",
    "kerrlist2d[0][3] = ((2 * M * syms[1] * a**2 * (sym.sin(syms[2]))**2) / params[0]**2)\n",
    "kerrlist2d[3][0] = ((2 * M * syms[1] * a**2 * (sym.sin(syms[2]))**2) / params[0]**2)\n",
    "krr = MetricTensor(kerrlist2d, syms)\n",
    "krrsubparams = krr.subs([(params[0], sym.sqrt(r**2 +a**2 * (sym.cos(syms[2]))**2)), (params[1], r**2 - 2 * M * syms[1]  + a**2)])\n",
    "krrsubparams.tensor()\n",
    "\n"
   ]
  },
  {
   "cell_type": "code",
   "execution_count": 16,
   "metadata": {},
   "outputs": [],
   "source": [
    "#lets try recreating some of the basic examples: \n",
    "import numpy as np\n",
    "\n",
    "from einsteinpy.geodesic import Nulllike\n",
    "from einsteinpy.plotting.geodesic import StaticGeodesicPlotter\n",
    "\n",
    "position = [2.5, np.pi / 2, 0.]\n",
    "momentum = [0., 0., -2.]\n",
    "a = 0.99\n",
    "steps = 7440  # As close as we can get before the integration becomes highly unstable\n",
    "delta = 0.0005\n",
    "omega = 0.01\n",
    "suppress_warnings = True"
   ]
  },
  {
   "cell_type": "code",
   "execution_count": 17,
   "metadata": {},
   "outputs": [],
   "source": [
    "#run the geodesic code\n",
    "geod = Nulllike(\n",
    "    metric=\"Kerr\",\n",
    "    metric_params=(a,),\n",
    "    position=position,\n",
    "    momentum=momentum,\n",
    "    steps=steps,\n",
    "    delta=delta,\n",
    "    return_cartesian=True,\n",
    "    omega=omega,\n",
    "    suppress_warnings=suppress_warnings\n",
    ")"
   ]
  },
  {
   "cell_type": "code",
   "execution_count": 26,
   "metadata": {},
   "outputs": [
    {
     "data": {
      "text/plain": [
       "array([[ 6.69634516e-04,  2.49999998e+00, -1.46505775e-04,\n",
       "         1.53080849e-16],\n",
       "       [ 1.33926906e-03,  2.49999993e+00, -2.93011539e-04,\n",
       "         1.53080847e-16],\n",
       "       [ 2.00890364e-03,  2.49999984e+00, -4.39517283e-04,\n",
       "         1.53080842e-16],\n",
       "       ...,\n",
       "       [ 3.53682135e+01, -1.28354325e-01, -1.14273055e+00,\n",
       "         7.04120778e-17],\n",
       "       [ 3.63572005e+01,  3.54530702e-01, -1.09320257e+00,\n",
       "         7.03714884e-17],\n",
       "       [ 3.75555692e+01,  8.47620442e-01, -7.75392098e-01,\n",
       "         7.03424297e-17]])"
      ]
     },
     "execution_count": 26,
     "metadata": {},
     "output_type": "execute_result"
    }
   ],
   "source": [
    "\n",
    "posmom= geod.trajectory[1]\n",
    "pos = posmom[:,:4]\n",
    "pos\n"
   ]
  }
 ],
 "metadata": {
  "kernelspec": {
   "display_name": "RelativityEnv",
   "language": "python",
   "name": "python3"
  },
  "language_info": {
   "codemirror_mode": {
    "name": "ipython",
    "version": 3
   },
   "file_extension": ".py",
   "mimetype": "text/x-python",
   "name": "python",
   "nbconvert_exporter": "python",
   "pygments_lexer": "ipython3",
   "version": "3.11.5"
  },
  "orig_nbformat": 4
 },
 "nbformat": 4,
 "nbformat_minor": 2
}
